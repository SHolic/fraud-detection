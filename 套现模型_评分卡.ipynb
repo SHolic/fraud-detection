{
 "cells": [
  {
   "cell_type": "code",
   "execution_count": 1,
   "id": "fifteen-charleston",
   "metadata": {
    "ExecuteTime": {
     "end_time": "2021-12-29T09:11:28.863912Z",
     "start_time": "2021-12-29T09:11:22.458997Z"
    }
   },
   "outputs": [],
   "source": [
    "import datetime\n",
    "import time\n",
    "from odps import ODPS\n",
    "from odps.df import DataFrame\n",
    "import pandas as pd\n",
    "import numpy as np\n",
    "from collections import Counter, defaultdict\n",
    "from functools import reduce\n",
    "from tqdm.notebook import tqdm\n",
    "import warnings\n",
    "import json\n",
    "import re\n",
    "import math\n",
    "# 模型训练及测试\n",
    "from sklearn.linear_model import LogisticRegression\n",
    "from sklearn.model_selection import train_test_split\n",
    "from sklearn.metrics import roc_curve, auc\n",
    "\n",
    "from imblearn.over_sampling import RandomOverSampler, SMOTE, ADASYN\n",
    "from imblearn.under_sampling import RandomUnderSampler, ClusterCentroids, NearMiss\n",
    "from imblearn.combine import SMOTEENN, SMOTETomek\n",
    "\n",
    "# 画图\n",
    "import matplotlib.pyplot as plt\n",
    "import seaborn as sns\n",
    "%matplotlib inline\n",
    "plt.rcParams['font.sans-serif']=['SimHei'] \n",
    "plt.rcParams['font.family']='sans-serif'\n",
    "\n",
    "warnings.filterwarnings('ignore')\n",
    "pd.set_option('display.max_rows', 5000)"
   ]
  },
  {
   "cell_type": "code",
   "execution_count": 2,
   "id": "backed-surge",
   "metadata": {
    "ExecuteTime": {
     "end_time": "2021-12-29T09:11:28.879872Z",
     "start_time": "2021-12-29T09:11:28.866906Z"
    }
   },
   "outputs": [],
   "source": [
    "def get_bin(sample_df, sample_df_raw, column):\n",
    "    b = sorted(set([-np.inf\n",
    "                    , np.quantile(sample_df_raw[column], 0)\n",
    "                    , np.quantile(sample_df_raw[column], 0.1)\n",
    "                    , np.quantile(sample_df_raw[column], 0.2)\n",
    "                    , np.quantile(sample_df_raw[column], 0.3)\n",
    "                    , np.quantile(sample_df_raw[column], 0.4)\n",
    "                    , np.quantile(sample_df_raw[column], 0.5)\n",
    "                    , np.quantile(sample_df_raw[column], 0.6)\n",
    "                    , np.quantile(sample_df_raw[column], 0.7)\n",
    "                    , np.quantile(sample_df_raw[column], 0.8)\n",
    "                    , np.quantile(sample_df_raw[column], 0.9)\n",
    "                    , np.inf]))\n",
    "    return pd.cut(sample_df[column], b)\n",
    "\n",
    "\n",
    "def get_metrics(sample_df, column, y):\n",
    "    global total, bad, good, badratio\n",
    "    column_df = sample_df.groupby(column+'_bin')[y].agg([np.size, np.sum]).reset_index()\n",
    "    column_df.columns = ['分箱', '个数', '坏样本']\n",
    "    column_df['特征'] = column\n",
    "    column_df['整体个数'] = total\n",
    "    column_df['整体坏样本'] = bad\n",
    "    column_df['整体好样本'] = good\n",
    "    column_df['整体badratio'] = badratio\n",
    "    column_df['好样本'] = column_df['个数'] - column_df['坏样本']\n",
    "    column_df['badratio'] = column_df['坏样本']/column_df['个数']\n",
    "    column_df['累计badrate'] = column_df['坏样本'].cumsum()/bad\n",
    "    column_df['累计goodrate'] = column_df['好样本'].cumsum()/good\n",
    "    column_df['KS分量'] = abs(column_df['累计badrate'] - column_df['累计goodrate'])\n",
    "    column_df['KS'] = max(column_df['KS分量'])\n",
    "    column_df['WOE'] = np.log((column_df['好样本']/good)/(column_df['坏样本']/bad))\n",
    "    column_df['IV'] = sum((column_df['好样本']/good - column_df['坏样本']/bad)*column_df['WOE'])\n",
    "    column_df['lift'] = column_df['badratio']/badratio\n",
    "    column_df['minlift'] = min(column_df['lift'])\n",
    "    column_df['maxlift'] = max(column_df['lift'])\n",
    "    column_df['上累计lift'] = (column_df['坏样本'].cumsum()/column_df['个数'].cumsum())/badratio\n",
    "    column_df['下累计lift'] = ((bad-column_df['坏样本'].cumsum())/(total-column_df['个数'].cumsum()))/badratio\n",
    "    column_df['max上累计lift'] = max(column_df['上累计lift'])\n",
    "    column_df['max下累计lift'] = max(column_df['下累计lift'])\n",
    "    return column_df[[\n",
    "        '特征'\n",
    "        ,'分箱'\n",
    "        ,'整体个数'\n",
    "        ,'整体坏样本'\n",
    "        ,'整体好样本'\n",
    "        ,'整体badratio'\n",
    "        ,'个数','坏样本'\n",
    "        ,'好样本'\n",
    "        ,'badratio'\n",
    "        ,'累计badrate'\n",
    "        ,'累计goodrate'\n",
    "        ,'KS分量'\n",
    "        ,'KS'\n",
    "        ,'WOE'\n",
    "        ,'IV'\n",
    "        ,'lift'\n",
    "        ,'minlift'\n",
    "        ,'maxlift'\n",
    "        ,'上累计lift'\n",
    "        ,'下累计lift'\n",
    "        ,'max上累计lift'\n",
    "        ,'max下累计lift'\n",
    "]]\n",
    "\n",
    "\n",
    "def datediff(t1, t2):\n",
    "    try:\n",
    "        _t1 = datetime.datetime.strptime(str(t1),\"%Y-%m-%d %H:%M:%S\")\n",
    "        _t2 = datetime.datetime.strptime(str(t2),\"%Y-%m-%d %H:%M:%S\")\n",
    "    except:\n",
    "        return -9999\n",
    "    return (_t1 - _t2).days"
   ]
  },
  {
   "cell_type": "markdown",
   "id": "derived-employer",
   "metadata": {},
   "source": [
    "# 导入"
   ]
  },
  {
   "cell_type": "code",
   "execution_count": 3,
   "id": "scheduled-donor",
   "metadata": {
    "ExecuteTime": {
     "end_time": "2021-12-29T09:11:29.762514Z",
     "start_time": "2021-12-29T09:11:28.883863Z"
    }
   },
   "outputs": [],
   "source": [
    "# 导入数据\n",
    "tmp_repayinfo_shl = pd.read_csv('./raw_data/套现特征_20211224.txt')"
   ]
  },
  {
   "cell_type": "code",
   "execution_count": 4,
   "id": "unexpected-slovak",
   "metadata": {
    "ExecuteTime": {
     "end_time": "2021-12-29T09:11:29.778713Z",
     "start_time": "2021-12-29T09:11:29.764513Z"
    }
   },
   "outputs": [
    {
     "data": {
      "text/plain": [
       "(62616, 120)"
      ]
     },
     "execution_count": 4,
     "metadata": {},
     "output_type": "execute_result"
    }
   ],
   "source": [
    "tmp_repayinfo_shl.shape"
   ]
  },
  {
   "cell_type": "markdown",
   "id": "stone-cleaners",
   "metadata": {},
   "source": [
    "# 调整"
   ]
  },
  {
   "cell_type": "code",
   "execution_count": 5,
   "id": "senior-grocery",
   "metadata": {
    "ExecuteTime": {
     "end_time": "2021-12-29T09:11:29.873223Z",
     "start_time": "2021-12-29T09:11:29.780471Z"
    }
   },
   "outputs": [],
   "source": [
    "# 缺失值与标签\n",
    "repayinfo = tmp_repayinfo_shl.copy(deep=True)\n",
    "repayinfo.replace('\\\\N', np.nan, inplace=True)\n",
    "repayinfo['d1amo'] = repayinfo['d1amo'].astype('float64')\n",
    "repayinfo['d3amo'] = repayinfo['d3amo'].astype('float64')\n",
    "repayinfo['d7amo'] = repayinfo['d7amo'].astype('float64')\n",
    "repayinfo['d15amo'] = repayinfo['d15amo'].astype('float64')\n",
    "repayinfo['d30amo'] = repayinfo['d30amo'].astype('float64')\n",
    "repayinfo['d1amosum'] = repayinfo['d1amosum'].astype('float64')\n",
    "repayinfo['d3amosum'] = repayinfo['d3amosum'].astype('float64')\n",
    "repayinfo['d7amosum'] = repayinfo['d7amosum'].astype('float64')\n",
    "repayinfo['d15amosum'] = repayinfo['d15amosum'].astype('float64')\n",
    "repayinfo['d30amosum'] = repayinfo['d30amosum'].astype('float64')"
   ]
  },
  {
   "cell_type": "code",
   "execution_count": 6,
   "id": "configured-revelation",
   "metadata": {
    "ExecuteTime": {
     "end_time": "2021-12-29T09:11:30.014465Z",
     "start_time": "2021-12-29T09:11:29.875216Z"
    }
   },
   "outputs": [],
   "source": [
    "# 逾期标签\n",
    "repayinfo['d1target'] = repayinfo.d1amo.map(lambda x: 1 if x>0 else 0)\n",
    "repayinfo['d3target'] = repayinfo.d3amo.map(lambda x: 1 if x>0 else 0)\n",
    "repayinfo['d7target'] = repayinfo.d7amo.map(lambda x: 1 if x>0 else 0)\n",
    "repayinfo['d15target'] = repayinfo.d15amo.map(lambda x: 1 if x>0 else 0)\n",
    "repayinfo['d30target'] = repayinfo.d30amo.map(lambda x: 1 if x>0 else 0)"
   ]
  },
  {
   "cell_type": "code",
   "execution_count": 7,
   "id": "accomplished-hughes",
   "metadata": {
    "ExecuteTime": {
     "end_time": "2021-12-29T09:11:30.170938Z",
     "start_time": "2021-12-29T09:11:30.017249Z"
    }
   },
   "outputs": [],
   "source": [
    "# 特征及target\n",
    "ftr = [col for col in repayinfo.columns if re.match('[\\u4e00-\\u9fa5]+', col)]\n",
    "target = 'd15target'\n",
    "sample_valid = repayinfo[~repayinfo[target.replace('target','')+'amosum'].isna()].copy(deep=True)"
   ]
  },
  {
   "cell_type": "markdown",
   "id": "loaded-referral",
   "metadata": {},
   "source": [
    "# 分箱及指标"
   ]
  },
  {
   "cell_type": "code",
   "execution_count": 7,
   "id": "excellent-provincial",
   "metadata": {
    "ExecuteTime": {
     "end_time": "2021-12-24T06:05:25.865123Z",
     "start_time": "2021-12-24T06:05:23.156377Z"
    }
   },
   "outputs": [
    {
     "data": {
      "application/vnd.jupyter.widget-view+json": {
       "model_id": "a4785a597b7e46bca9c0dabaf3dc2d80",
       "version_major": 2,
       "version_minor": 0
      },
      "text/plain": [
       "  0%|          | 0/84 [00:00<?, ?it/s]"
      ]
     },
     "metadata": {},
     "output_type": "display_data"
    }
   ],
   "source": [
    "total = sample_valid.shape[0]\n",
    "bad = sample_valid[sample_valid[target]==1].shape[0]\n",
    "good = sample_valid[sample_valid[target]==0].shape[0]\n",
    "badratio = bad/total\n",
    "\n",
    "bin_df = pd.DataFrame(columns=[])\n",
    "for col in tqdm(ftr):    \n",
    "    # 分箱\n",
    "    sample_valid[col+'_bin'] = get_bin(sample_valid, sample_valid, col)\n",
    "    # 重要指标\n",
    "    col_df = get_metrics(sample_valid, col, target)\n",
    "    bin_df = bin_df.append(col_df, ignore_index=True)"
   ]
  },
  {
   "cell_type": "code",
   "execution_count": 8,
   "id": "exterior-nitrogen",
   "metadata": {
    "ExecuteTime": {
     "end_time": "2021-12-24T06:05:25.895309Z",
     "start_time": "2021-12-24T06:05:25.867116Z"
    },
    "scrolled": false
   },
   "outputs": [],
   "source": [
    "# bin_df.to_csv('./output/bin_df_d15_20211224.csv', index=0)"
   ]
  },
  {
   "cell_type": "markdown",
   "id": "million-cooper",
   "metadata": {},
   "source": [
    "# 特征选择"
   ]
  },
  {
   "cell_type": "code",
   "execution_count": 9,
   "id": "dress-incentive",
   "metadata": {
    "ExecuteTime": {
     "end_time": "2021-12-24T06:05:25.926008Z",
     "start_time": "2021-12-24T06:05:25.899032Z"
    }
   },
   "outputs": [],
   "source": [
    "sift_df = bin_df.groupby('特征')['KS','IV','minlift','maxlift'].agg('max').reset_index()"
   ]
  },
  {
   "cell_type": "code",
   "execution_count": 10,
   "id": "textile-henry",
   "metadata": {
    "ExecuteTime": {
     "end_time": "2021-12-24T06:05:25.941959Z",
     "start_time": "2021-12-24T06:05:25.927955Z"
    }
   },
   "outputs": [],
   "source": [
    "# sift_df.sort_values(by='maxlift', ascending=False)\n",
    "\n",
    "# sift_df.sort_values(by='IV', ascending=False)\n",
    "\n",
    "# sift_df.sort_values(by='KS', ascending=False)"
   ]
  },
  {
   "cell_type": "code",
   "execution_count": 11,
   "id": "focal-communication",
   "metadata": {
    "ExecuteTime": {
     "end_time": "2021-12-24T06:05:25.973871Z",
     "start_time": "2021-12-24T06:05:25.943912Z"
    }
   },
   "outputs": [
    {
     "data": {
      "text/plain": [
       "['套现下单类目_180天内数码成功下单金额',\n",
       " '套现下单类目_7天内手机成功下单笔数',\n",
       " '套现下单类目_7天内手机成功下单金额',\n",
       " '套现下单类目_90天内数码成功下单金额',\n",
       " '正常下单类目_180天内非数码与饰品腕表成功商品分期下单一级类目数',\n",
       " '正常下单类目_180天内非数码与饰品腕表成功商品分期下单二级类目数',\n",
       " '正常下单类目_180天内非数码与饰品腕表成功商品分期下单金额',\n",
       " '正常下单类目_30天内非数码与饰品腕表成功商品分期下单一级类目数',\n",
       " '正常下单类目_7天内非数码与饰品腕表成功商品分期下单金额',\n",
       " '正常下单类目_90天内非数码与饰品腕表成功商品分期下单一级类目数',\n",
       " '正常下单类目_90天内非数码与饰品腕表成功商品分期下单二级类目数',\n",
       " '正常下单类目_90天内非数码与饰品腕表成功商品分期下单金额',\n",
       " '现金申请失败_7天内现金分期评分刚性拒绝笔数',\n",
       " '现金申请失败_7天内现金分期评分刚性拒绝金额',\n",
       " '现金申请失败_7天内现金分期风控拒绝笔数',\n",
       " '疑似非本人收货_7天内注册手机号关联收货城市个数',\n",
       " '疑似非本人收货_7天内注册手机号关联收货省份个数']"
      ]
     },
     "execution_count": 11,
     "metadata": {},
     "output_type": "execute_result"
    }
   ],
   "source": [
    "selection = lambda x: True if (x['maxlift']>=1.6 or x['minlift']<=0.5 and x['minlift']!=0) or (x['IV']>=0.1 and x['IV']!=np.inf) else False\n",
    "# selection = lambda x: True if (x['maxlift']>=1.6) or (x['IV']>=0.1 and x['IV']!=np.inf) else False\n",
    "select_list = sift_df[sift_df.apply(selection, axis=1)]['特征'].tolist()\n",
    "select_list"
   ]
  },
  {
   "cell_type": "code",
   "execution_count": 12,
   "id": "becoming-discussion",
   "metadata": {
    "ExecuteTime": {
     "end_time": "2021-12-24T06:05:26.053620Z",
     "start_time": "2021-12-24T06:05:25.976835Z"
    }
   },
   "outputs": [],
   "source": [
    "corr = sample_valid[select_list].corr()\n",
    "# corr.to_csv('./output/corr_20211224.csv')"
   ]
  },
  {
   "cell_type": "code",
   "execution_count": 13,
   "id": "voluntary-toyota",
   "metadata": {
    "ExecuteTime": {
     "end_time": "2021-12-24T06:05:26.101718Z",
     "start_time": "2021-12-24T06:05:26.056609Z"
    }
   },
   "outputs": [
    {
     "data": {
      "text/plain": [
       "{'套现下单类目_180天内数码成功下单金额',\n",
       " '套现下单类目_7天内手机成功下单笔数',\n",
       " '正常下单类目_180天内非数码与饰品腕表成功商品分期下单二级类目数',\n",
       " '正常下单类目_180天内非数码与饰品腕表成功商品分期下单金额',\n",
       " '正常下单类目_90天内非数码与饰品腕表成功商品分期下单一级类目数',\n",
       " '现金申请失败_7天内现金分期评分刚性拒绝笔数',\n",
       " '疑似非本人收货_7天内注册手机号关联收货城市个数'}"
      ]
     },
     "execution_count": 13,
     "metadata": {},
     "output_type": "execute_result"
    }
   ],
   "source": [
    "# 选相关性高的\n",
    "corr_pair_dict = defaultdict(list)\n",
    "for col, record in corr.to_dict().items():\n",
    "    for index, value in record.items():\n",
    "        if value>=0.8 and value!=1:\n",
    "            corr_pair_dict[col].append(index)\n",
    "\n",
    "# 拆dict\n",
    "corr_pair_list = []\n",
    "for k, v in corr_pair_dict.items():\n",
    "    if set([k]+v) not in [set(x) for x in corr_pair_list]:\n",
    "        corr_pair_list.append([k]+v)\n",
    "\n",
    "# 加指标\n",
    "corr_pair_list_metric = []\n",
    "for i in corr_pair_list:\n",
    "    corr_pair_list_metric.append([(j, max(bin_df[bin_df['特征']==j]['IV'])) for j in i])\n",
    "    \n",
    "# 筛指标最高的\n",
    "selected = set()\n",
    "for i in corr_pair_list_metric:\n",
    "    s = sorted(i, key=lambda x: x[1], reverse=True)\n",
    "    selected.add(s[0][0])\n",
    "    \n",
    "selected"
   ]
  },
  {
   "cell_type": "code",
   "execution_count": 14,
   "id": "seeing-stomach",
   "metadata": {
    "ExecuteTime": {
     "end_time": "2021-12-24T06:05:26.117447Z",
     "start_time": "2021-12-24T06:05:26.105478Z"
    },
    "scrolled": false
   },
   "outputs": [],
   "source": [
    "selected_df = bin_df[bin_df['特征'].isin(selected)][['特征','分箱','个数','KS','IV','lift','minlift','maxlift']]\n",
    "# selected_df.to_csv('./output/metrics_20211224.csv', index=0)"
   ]
  },
  {
   "cell_type": "code",
   "execution_count": 15,
   "id": "contemporary-advertising",
   "metadata": {
    "ExecuteTime": {
     "end_time": "2021-12-24T06:06:09.207163Z",
     "start_time": "2021-12-24T06:05:26.120439Z"
    }
   },
   "outputs": [
    {
     "data": {
      "application/vnd.jupyter.widget-view+json": {
       "model_id": "50962c853bc84b8390b1b58563baaf6a",
       "version_major": 2,
       "version_minor": 0
      },
      "text/plain": [
       "  0%|          | 0/7 [00:00<?, ?it/s]"
      ]
     },
     "metadata": {},
     "output_type": "display_data"
    }
   ],
   "source": [
    "woe_dict = {row['特征']+'|'+str(row['分箱']): row['WOE'] for i, row in bin_df.iterrows()}\n",
    "\n",
    "for col in tqdm(selected):\n",
    "    sample_valid[col+'_woe'] = sample_valid.apply(lambda x: woe_dict[col+'|'+str(x[col+'_bin'])], axis=1)"
   ]
  },
  {
   "cell_type": "markdown",
   "id": "widespread-afternoon",
   "metadata": {},
   "source": [
    "# 模型训练及测试"
   ]
  },
  {
   "cell_type": "code",
   "execution_count": 16,
   "id": "executive-while",
   "metadata": {
    "ExecuteTime": {
     "end_time": "2021-12-24T06:06:14.989710Z",
     "start_time": "2021-12-24T06:06:09.210157Z"
    }
   },
   "outputs": [
    {
     "data": {
      "text/plain": [
       "Counter({0: 27729, 1: 22615})"
      ]
     },
     "execution_count": 16,
     "metadata": {},
     "output_type": "execute_result"
    }
   ],
   "source": [
    "x = sample_valid[[x+'_woe' for x in selected]]\n",
    "y = sample_valid[target]\n",
    "x_train,x_test,y_train,y_test = train_test_split(x,y,test_size = 0.4,random_state = 0)\n",
    "\n",
    "# 采样\n",
    "# rsp = RandomOverSampler(random_state=0) # 0.65\n",
    "# rsp = SMOTE(random_state=0) # 0.65\n",
    "# rsp = ADASYN(random_state=0) # 0.65\n",
    "# rsp = RandomUnderSampler(random_state=0) # 0.64\n",
    "# rsp = ClusterCentroids(random_state=0) # 0.6\n",
    "# rsp = NearMiss(version=1) # 0.51 0.53 0.58\n",
    "rsp = SMOTEENN(random_state=0) # 0.65\n",
    "# rsp = SMOTETomek(random_state=0) # 0.65\n",
    "\n",
    "x_resample, y_resample = rsp.fit_resample(x_train, y_train)\n",
    "Counter(y_resample)"
   ]
  },
  {
   "cell_type": "code",
   "execution_count": 17,
   "id": "understood-vegetable",
   "metadata": {
    "ExecuteTime": {
     "end_time": "2021-12-24T06:06:15.100432Z",
     "start_time": "2021-12-24T06:06:14.991688Z"
    }
   },
   "outputs": [
    {
     "name": "stdout",
     "output_type": "stream",
     "text": [
      "测试集的平均正确率：0.6959715734419292\n"
     ]
    }
   ],
   "source": [
    "model = LogisticRegression(random_state=0)\n",
    "clf = model.fit(x_resample,y_resample)\n",
    "# 预测标签\n",
    "y_pred  = clf.predict(x_test)\n",
    "print(\"测试集的平均正确率：{}\".format(clf.score(x_test,y_test)))\n",
    "\n",
    "# 计算回归值，取值小于0，表示p(y=1) <0.5,则该处标签属于1，否则属于0\n",
    "y_pred1 = clf.decision_function(x_test)"
   ]
  },
  {
   "cell_type": "code",
   "execution_count": 18,
   "id": "whole-insert",
   "metadata": {
    "ExecuteTime": {
     "end_time": "2021-12-24T06:06:15.302178Z",
     "start_time": "2021-12-24T06:06:15.103411Z"
    }
   },
   "outputs": [
    {
     "data": {
      "text/plain": [
       "<matplotlib.legend.Legend at 0x18409769340>"
      ]
     },
     "execution_count": 18,
     "metadata": {},
     "output_type": "execute_result"
    },
    {
     "data": {
      "image/png": "[encoded data removed]",
      "text/plain": [
       "<Figure size 432x288 with 1 Axes>"
      ]
     },
     "metadata": {
      "needs_background": "light"
     },
     "output_type": "display_data"
    }
   ],
   "source": [
    "## 绘制ROC曲线并计算AUC的值\n",
    "fpr, tpr, threshold = roc_curve(y_test,y_pred1)\n",
    "roc_auc = auc(fpr,tpr)\n",
    "plt.plot(fpr, tpr, color='darkorange',\n",
    "          label='ROC curve (area = %0.2f)' % roc_auc)\n",
    "plt.plot([0, 1], [0, 1], color='navy',  linestyle='--')\n",
    "plt.xlim([0.0, 1.0])\n",
    "plt.ylim([0.0, 1.0])\n",
    "plt.xlabel('False Positive Rate')\n",
    "plt.ylabel('True Positive Rate')\n",
    "plt.title('ROC_curve')\n",
    "plt.legend(loc=\"lower right\")"
   ]
  },
  {
   "cell_type": "markdown",
   "id": "substantial-latex",
   "metadata": {},
   "source": [
    "# 计算得分"
   ]
  },
  {
   "cell_type": "code",
   "execution_count": 19,
   "id": "genuine-wrestling",
   "metadata": {
    "ExecuteTime": {
     "end_time": "2021-12-24T06:06:15.317814Z",
     "start_time": "2021-12-24T06:06:15.304849Z"
    }
   },
   "outputs": [],
   "source": [
    "# 系数值\n",
    "coe = clf.coef_\n",
    "\n",
    "### 计算得分\n",
    "# score = offset-factor*log(odds)\n",
    "# 约定：当odds增加一倍，分数减少20分；当odds = 1,分数为600分\n",
    "factor = 20 /np.log(2)\n",
    "offset = 600\n",
    "# 分数facor*woe_i*beta"
   ]
  },
  {
   "cell_type": "code",
   "execution_count": 20,
   "id": "annual-dispute",
   "metadata": {
    "ExecuteTime": {
     "end_time": "2021-12-24T06:06:16.200490Z",
     "start_time": "2021-12-24T06:06:15.319810Z"
    }
   },
   "outputs": [],
   "source": [
    "sample_valid['score'] = x.apply(lambda x: 600-factor*np.dot(list(x), coe[0]), axis=1)"
   ]
  },
  {
   "cell_type": "code",
   "execution_count": 21,
   "id": "amazing-anger",
   "metadata": {
    "ExecuteTime": {
     "end_time": "2021-12-24T06:06:18.169486Z",
     "start_time": "2021-12-24T06:06:16.203464Z"
    }
   },
   "outputs": [],
   "source": [
    "col_res = list(sample_valid.iloc[:,:36].columns)+list(selected)+[x+'_bin' for x in selected]+['score']\n",
    "# sample_valid[col_res].to_csv('./output/repayinfo_score_20211224.csv', index=0)"
   ]
  },
  {
   "cell_type": "code",
   "execution_count": 22,
   "id": "monetary-drunk",
   "metadata": {
    "ExecuteTime": {
     "end_time": "2021-12-24T06:06:18.185142Z",
     "start_time": "2021-12-24T06:06:18.172176Z"
    }
   },
   "outputs": [],
   "source": [
    "# 计算变量分\n",
    "coe_dict = dict(zip(x.columns, coe[0]))\n",
    "\n",
    "selected_score_list = []\n",
    "for k, v in woe_dict.items():\n",
    "    tmp_k = k.split('|')[0]\n",
    "    if tmp_k in selected:\n",
    "        v_res = factor*v*coe_dict[tmp_k+'_woe']\n",
    "        selected_score_list.append(k.split('|')+[v_res])"
   ]
  },
  {
   "cell_type": "code",
   "execution_count": 23,
   "id": "blocked-oxide",
   "metadata": {
    "ExecuteTime": {
     "end_time": "2021-12-24T06:06:18.200140Z",
     "start_time": "2021-12-24T06:06:18.188134Z"
    }
   },
   "outputs": [],
   "source": [
    "feature_score = pd.DataFrame(selected_score_list, columns=['特征','分箱','分数'])\n",
    "# feature_score.to_csv('./output/feature_score_20211224.csv', index=0)"
   ]
  },
  {
   "cell_type": "code",
   "execution_count": 24,
   "id": "convinced-outline",
   "metadata": {
    "ExecuteTime": {
     "end_time": "2021-12-24T06:06:18.216094Z",
     "start_time": "2021-12-24T06:06:18.202098Z"
    }
   },
   "outputs": [],
   "source": [
    "# sample_valid[sample_valid['score']>640]['usermobile'].drop_duplicates().to_csv('./output/good_shl.csv', index=0)"
   ]
  },
  {
   "cell_type": "markdown",
   "id": "actual-america",
   "metadata": {},
   "source": [
    "# OOT"
   ]
  },
  {
   "cell_type": "markdown",
   "id": "friendly-lawsuit",
   "metadata": {},
   "source": [
    "## 导入"
   ]
  },
  {
   "cell_type": "code",
   "execution_count": 25,
   "id": "traditional-investment",
   "metadata": {
    "ExecuteTime": {
     "end_time": "2021-12-24T06:06:19.826139Z",
     "start_time": "2021-12-24T06:06:18.218055Z"
    }
   },
   "outputs": [],
   "source": [
    "# 导入数据\n",
    "tmp_repayinfo_shl2 = pd.read_csv('./raw_data/套现特征OOT.txt')"
   ]
  },
  {
   "cell_type": "code",
   "execution_count": 26,
   "id": "celtic-connecticut",
   "metadata": {
    "ExecuteTime": {
     "end_time": "2021-12-24T06:06:19.841055Z",
     "start_time": "2021-12-24T06:06:19.828090Z"
    }
   },
   "outputs": [
    {
     "data": {
      "text/plain": [
       "(100468, 120)"
      ]
     },
     "execution_count": 26,
     "metadata": {},
     "output_type": "execute_result"
    }
   ],
   "source": [
    "tmp_repayinfo_shl2.shape"
   ]
  },
  {
   "cell_type": "markdown",
   "id": "scientific-hundred",
   "metadata": {},
   "source": [
    "## 调整"
   ]
  },
  {
   "cell_type": "code",
   "execution_count": 27,
   "id": "sublime-speaking",
   "metadata": {
    "ExecuteTime": {
     "end_time": "2021-12-24T06:06:19.997897Z",
     "start_time": "2021-12-24T06:06:19.849035Z"
    }
   },
   "outputs": [],
   "source": [
    "# 缺失值与标签\n",
    "repayinfo2 = tmp_repayinfo_shl2.copy(deep=True)\n",
    "repayinfo2.replace('\\\\N', np.nan, inplace=True)\n",
    "repayinfo2['d1amo'] = repayinfo2['d1amo'].astype('float64')\n",
    "repayinfo2['d3amo'] = repayinfo2['d3amo'].astype('float64')\n",
    "repayinfo2['d7amo'] = repayinfo2['d7amo'].astype('float64')\n",
    "repayinfo2['d15amo'] = repayinfo2['d15amo'].astype('float64')\n",
    "repayinfo2['d30amo'] = repayinfo2['d30amo'].astype('float64')\n",
    "repayinfo2['d1amosum'] = repayinfo2['d1amosum'].astype('float64')\n",
    "repayinfo2['d3amosum'] = repayinfo2['d3amosum'].astype('float64')\n",
    "repayinfo2['d7amosum'] = repayinfo2['d7amosum'].astype('float64')\n",
    "repayinfo2['d15amosum'] = repayinfo2['d15amosum'].astype('float64')\n",
    "repayinfo2['d30amosum'] = repayinfo2['d30amosum'].astype('float64')"
   ]
  },
  {
   "cell_type": "code",
   "execution_count": 28,
   "id": "differential-waterproof",
   "metadata": {
    "ExecuteTime": {
     "end_time": "2021-12-24T06:06:20.185419Z",
     "start_time": "2021-12-24T06:06:20.000629Z"
    }
   },
   "outputs": [],
   "source": [
    "# 逾期标签\n",
    "repayinfo2['d1target'] = repayinfo2.d1amo.map(lambda x: 1 if x>0 else 0)\n",
    "repayinfo2['d3target'] = repayinfo2.d3amo.map(lambda x: 1 if x>0 else 0)\n",
    "repayinfo2['d7target'] = repayinfo2.d7amo.map(lambda x: 1 if x>0 else 0)\n",
    "repayinfo2['d15target'] = repayinfo2.d15amo.map(lambda x: 1 if x>0 else 0)\n",
    "repayinfo2['d30target'] = repayinfo2.d30amo.map(lambda x: 1 if x>0 else 0)"
   ]
  },
  {
   "cell_type": "markdown",
   "id": "mature-sleeve",
   "metadata": {},
   "source": [
    "## 分箱及woe"
   ]
  },
  {
   "cell_type": "code",
   "execution_count": 29,
   "id": "addressed-stewart",
   "metadata": {
    "ExecuteTime": {
     "end_time": "2021-12-24T06:06:32.213953Z",
     "start_time": "2021-12-24T06:06:20.187129Z"
    }
   },
   "outputs": [
    {
     "data": {
      "application/vnd.jupyter.widget-view+json": {
       "model_id": "2c9ac60318e5441e8f82c3d4b86c74e8",
       "version_major": 2,
       "version_minor": 0
      },
      "text/plain": [
       "  0%|          | 0/7 [00:00<?, ?it/s]"
      ]
     },
     "metadata": {},
     "output_type": "display_data"
    }
   ],
   "source": [
    "sample_valid2 = repayinfo2[~repayinfo2[target.replace('target','')+'amosum'].isna()].copy(deep=True)\n",
    "\n",
    "for col in tqdm(selected):    \n",
    "    # 分箱\n",
    "    sample_valid2[col+'_bin'] = get_bin(sample_valid2, sample_valid, col)\n",
    "    sample_valid2[col+'_woe'] = sample_valid2.apply(lambda x: woe_dict[col+'|'+str(x[col+'_bin'])], axis=1)"
   ]
  },
  {
   "cell_type": "markdown",
   "id": "committed-refund",
   "metadata": {},
   "source": [
    "## 测试"
   ]
  },
  {
   "cell_type": "code",
   "execution_count": 30,
   "id": "outdoor-italic",
   "metadata": {
    "ExecuteTime": {
     "end_time": "2021-12-24T06:06:32.260084Z",
     "start_time": "2021-12-24T06:06:32.216946Z"
    }
   },
   "outputs": [],
   "source": [
    "x2 = sample_valid2[[x+'_woe' for x in selected]]\n",
    "y2 = sample_valid2[target]"
   ]
  },
  {
   "cell_type": "code",
   "execution_count": 31,
   "id": "processed-beach",
   "metadata": {
    "ExecuteTime": {
     "end_time": "2021-12-24T06:06:32.291003Z",
     "start_time": "2021-12-24T06:06:32.263819Z"
    }
   },
   "outputs": [
    {
     "name": "stdout",
     "output_type": "stream",
     "text": [
      "测试集的平均正确率：0.6982999184304297\n"
     ]
    }
   ],
   "source": [
    "y_pred2  = clf.predict(x2)\n",
    "print(\"测试集的平均正确率：{}\".format(clf.score(x2,y2)))\n",
    "\n",
    "# 计算回归值，取值小于0，表示p(y=1) <0.5,则该处标签属于1，否则属于0\n",
    "y_pred12 = clf.decision_function(x2)"
   ]
  },
  {
   "cell_type": "code",
   "execution_count": 32,
   "id": "controlled-slave",
   "metadata": {
    "ExecuteTime": {
     "end_time": "2021-12-24T06:06:32.494203Z",
     "start_time": "2021-12-24T06:06:32.293753Z"
    }
   },
   "outputs": [
    {
     "data": {
      "text/plain": [
       "<matplotlib.legend.Legend at 0x18465dc39a0>"
      ]
     },
     "execution_count": 32,
     "metadata": {},
     "output_type": "execute_result"
    },
    {
     "data": {
      "image/png": "[encoded data removed]",
      "text/plain": [
       "<Figure size 432x288 with 1 Axes>"
      ]
     },
     "metadata": {
      "needs_background": "light"
     },
     "output_type": "display_data"
    }
   ],
   "source": [
    "## 绘制ROC曲线并计算AUC的值\n",
    "fpr, tpr, threshold = roc_curve(y2,y_pred12)\n",
    "roc_auc = auc(fpr,tpr)\n",
    "plt.plot(fpr, tpr, color='darkorange',\n",
    "          label='ROC curve (area = %0.2f)' % roc_auc)\n",
    "plt.plot([0, 1], [0, 1], color='navy',  linestyle='--')\n",
    "plt.xlim([0.0, 1.0])\n",
    "plt.ylim([0.0, 1.0])\n",
    "plt.xlabel('False Positive Rate')\n",
    "plt.ylabel('True Positive Rate')\n",
    "plt.title('ROC_curve')\n",
    "plt.legend(loc=\"lower right\")"
   ]
  },
  {
   "cell_type": "markdown",
   "id": "frequent-copyright",
   "metadata": {},
   "source": [
    "## 计算得分"
   ]
  },
  {
   "cell_type": "code",
   "execution_count": 33,
   "id": "celtic-begin",
   "metadata": {
    "ExecuteTime": {
     "end_time": "2021-12-24T06:06:33.785748Z",
     "start_time": "2021-12-24T06:06:32.498194Z"
    }
   },
   "outputs": [],
   "source": [
    "sample_valid2['score'] = x2.apply(lambda x: 600-factor*np.dot(list(x), coe[0]), axis=1)"
   ]
  },
  {
   "cell_type": "code",
   "execution_count": 34,
   "id": "painted-henry",
   "metadata": {
    "ExecuteTime": {
     "end_time": "2021-12-24T06:06:36.561576Z",
     "start_time": "2021-12-24T06:06:33.788740Z"
    }
   },
   "outputs": [],
   "source": [
    "# sample_valid2[col_res].to_csv('./output/repayinfo_score_oot_20211224.csv', index=0)"
   ]
  }
 ],
 "metadata": {
  "hide_input": false,
  "kernelspec": {
   "display_name": "Python 3",
   "language": "python",
   "name": "python3"
  },
  "language_info": {
   "codemirror_mode": {
    "name": "ipython",
    "version": 3
   },
   "file_extension": ".py",
   "mimetype": "text/x-python",
   "name": "python",
   "nbconvert_exporter": "python",
   "pygments_lexer": "ipython3",
   "version": "3.8.7"
  },
  "toc": {
   "base_numbering": 1,
   "nav_menu": {},
   "number_sections": true,
   "sideBar": true,
   "skip_h1_title": false,
   "title_cell": "Table of Contents",
   "title_sidebar": "Contents",
   "toc_cell": false,
   "toc_position": {},
   "toc_section_display": true,
   "toc_window_display": true
  },
  "varInspector": {
   "cols": {
    "lenName": 16,
    "lenType": 16,
    "lenVar": 40
   },
   "kernels_config": {
    "python": {
     "delete_cmd_postfix": "",
     "delete_cmd_prefix": "del ",
     "library": "var_list.py",
     "varRefreshCmd": "print(var_dic_list())"
    },
    "r": {
     "delete_cmd_postfix": ") ",
     "delete_cmd_prefix": "rm(",
     "library": "var_list.r",
     "varRefreshCmd": "cat(var_dic_list()) "
    }
   },
   "oldHeight": 439,
   "position": {
    "height": "461px",
    "left": "1036px",
    "right": "20px",
    "top": "169px",
    "width": "630px"
   },
   "types_to_exclude": [
    "module",
    "function",
    "builtin_function_or_method",
    "instance",
    "_Feature"
   ],
   "varInspector_section_display": "block",
   "window_display": false
  }
 },
 "nbformat": 4,
 "nbformat_minor": 5
}
