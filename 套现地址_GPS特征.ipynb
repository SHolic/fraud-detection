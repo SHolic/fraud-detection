{
 "cells": [
  {
   "cell_type": "code",
   "execution_count": 1,
   "id": "three-caution",
   "metadata": {
    "ExecuteTime": {
     "end_time": "2022-07-29T06:02:13.217728Z",
     "start_time": "2022-07-29T06:02:12.752413Z"
    }
   },
   "outputs": [],
   "source": [
    "import pandas as pd\n",
    "import numpy as np\n",
    "from collections import Counter, defaultdict\n",
    "from tqdm.notebook import tqdm\n",
    "import requests\n",
    "from requests.exceptions import ReadTimeout, ConnectTimeout\n",
    "from math import radians, cos, sin, asin, sqrt\n",
    "from geolib import geohash\n",
    "import json\n",
    "import re"
   ]
  },
  {
   "cell_type": "code",
   "execution_count": 2,
   "id": "prime-grenada",
   "metadata": {
    "ExecuteTime": {
     "end_time": "2022-07-29T06:02:33.833652Z",
     "start_time": "2022-07-29T06:02:14.611324Z"
    }
   },
   "outputs": [
    {
     "name": "stderr",
     "output_type": "stream",
     "text": [
      "c:\\users\\xx\\appdata\\local\\programs\\python\\python38\\lib\\site-packages\\IPython\\core\\interactiveshell.py:3146: DtypeWarning: Columns (3,28,29,51) have mixed types.Specify dtype option on import or set low_memory=False.\n",
      "  has_raised = await self.run_ast_nodes(code_ast.body, cell_name,\n"
     ]
    }
   ],
   "source": [
    "# 导入数据\n",
    "raw_addr = pd.read_csv('./raw_data/地址文本_20220728.txt')"
   ]
  },
  {
   "cell_type": "code",
   "execution_count": 3,
   "id": "tutorial-rachel",
   "metadata": {
    "ExecuteTime": {
     "end_time": "2022-07-29T06:02:34.222682Z",
     "start_time": "2022-07-29T06:02:34.208719Z"
    }
   },
   "outputs": [
    {
     "data": {
      "text/plain": [
       "(904825, 103)"
      ]
     },
     "execution_count": 3,
     "metadata": {},
     "output_type": "execute_result"
    }
   ],
   "source": [
    "raw_addr.shape"
   ]
  },
  {
   "cell_type": "code",
   "execution_count": 4,
   "id": "planned-synthetic",
   "metadata": {
    "ExecuteTime": {
     "end_time": "2022-07-29T06:02:34.884261Z",
     "start_time": "2022-07-29T06:02:34.570799Z"
    }
   },
   "outputs": [],
   "source": [
    "sample_addr = raw_addr.copy(deep=True)"
   ]
  },
  {
   "cell_type": "markdown",
   "id": "limiting-patrol",
   "metadata": {},
   "source": [
    "## 查漏补缺"
   ]
  },
  {
   "cell_type": "code",
   "execution_count": 5,
   "id": "reserved-effectiveness",
   "metadata": {
    "ExecuteTime": {
     "end_time": "2022-07-29T06:02:35.483750Z",
     "start_time": "2022-07-29T06:02:35.470778Z"
    }
   },
   "outputs": [],
   "source": [
    "# # 百度\n",
    "# def addr2code(address):\n",
    "#     AK = 'qc3iiBPzq3tT0XvKSyuquSzDkmQreeqt'\n",
    "#     url = 'http://api.map.baidu.com/geocoding/v3/?address={}&output=json&ak={}&callback=showLocation'.format(address,AK)\n",
    "#     res = requests.get(url)\n",
    "#     results = json.loads(re.findall(r'\\((.*?)\\)',res.text)[0])\n",
    "#     return results['result']['location']"
   ]
  },
  {
   "cell_type": "code",
   "execution_count": 6,
   "id": "restricted-valley",
   "metadata": {
    "ExecuteTime": {
     "end_time": "2022-07-29T06:02:36.115804Z",
     "start_time": "2022-07-29T06:02:36.102473Z"
    }
   },
   "outputs": [],
   "source": [
    "# 高德\n",
    "def addr2code(geo):\n",
    "    # parameters = {'address': geo, 'key': 'da4ad28b24dfe117687b257def1bca02'} #浩亮\n",
    "    parameters = {'address': geo, 'key': '758b19e2580804d3238839e2eabfa59f'} #赟杰\n",
    "    base = 'https://restapi.amap.com/v3/geocode/geo?parameters'\n",
    "    loc = 0\n",
    "    try:\n",
    "        response = requests.get(base, parameters, timeout=2)\n",
    "        if response.status_code == 200:\n",
    "            answer = response.json()\n",
    "            loc = answer['geocodes'][0]['location']\n",
    "        else:\n",
    "            loc='未查到'\n",
    "    except:\n",
    "        loc='未查到'\n",
    "    return loc"
   ]
  },
  {
   "cell_type": "code",
   "execution_count": 7,
   "id": "stuck-civilian",
   "metadata": {
    "ExecuteTime": {
     "end_time": "2022-07-29T06:02:43.245169Z",
     "start_time": "2022-07-29T06:02:43.105929Z"
    }
   },
   "outputs": [],
   "source": [
    "# 读取gps\n",
    "with open('./output/gps信息_20220728','r', encoding='utf8') as f:\n",
    "    gps_dict_extend = dict()\n",
    "    for line in f.readlines():\n",
    "        try:\n",
    "            a, gps = line.strip().rsplit('|', 1)\n",
    "            gpslist = gps.split(',')\n",
    "            gps_dict_extend[a] = gpslist\n",
    "        except:\n",
    "            print(line)\n",
    "            break"
   ]
  },
  {
   "cell_type": "code",
   "execution_count": 12,
   "id": "atmospheric-session",
   "metadata": {
    "ExecuteTime": {
     "end_time": "2022-07-29T07:01:09.253054Z",
     "start_time": "2022-07-29T07:01:09.228813Z"
    }
   },
   "outputs": [
    {
     "name": "stdout",
     "output_type": "stream",
     "text": [
      "1 陕西省 西安市 市辖区 陕西省西安市市辖区新疆霍城县小马扎61团 ['未查到']\n"
     ]
    }
   ],
   "source": [
    "# 是否有未查到\n",
    "i=0\n",
    "for k, v in gps_dict_extend.items():\n",
    "    if v==['未查到']:\n",
    "        i+=1\n",
    "        print(i,k,v)"
   ]
  },
  {
   "cell_type": "code",
   "execution_count": 11,
   "id": "loved-ratio",
   "metadata": {
    "ExecuteTime": {
     "end_time": "2022-07-29T07:01:03.875850Z",
     "start_time": "2022-07-29T07:01:02.397320Z"
    }
   },
   "outputs": [
    {
     "data": {
      "application/vnd.jupyter.widget-view+json": {
       "model_id": "48ec6b0655d344c9b6e4d2a6579ac70c",
       "version_major": 2,
       "version_minor": 0
      },
      "text/plain": [
       "  0%|          | 0/67731 [00:00<?, ?it/s]"
      ]
     },
     "metadata": {},
     "output_type": "display_data"
    }
   ],
   "source": [
    "# 数量过多，再次查询\n",
    "for k, v in tqdm(gps_dict_extend.items()):\n",
    "    if v==['未查到']:\n",
    "#         k_edit = k\n",
    "        k_edit = re.sub('^([\\\\u4e00-\\\\u9fa5]+\\\\s){3}', '', k)\n",
    "        gps_dict_extend[k] = addr2code(k_edit).split(',')"
   ]
  },
  {
   "cell_type": "code",
   "execution_count": 15,
   "id": "directed-alpha",
   "metadata": {
    "ExecuteTime": {
     "end_time": "2022-07-29T07:01:49.678835Z",
     "start_time": "2022-07-29T07:01:49.564850Z"
    }
   },
   "outputs": [
    {
     "data": {
      "text/plain": [
       "['108.953939', '34.266611']"
      ]
     },
     "execution_count": 15,
     "metadata": {},
     "output_type": "execute_result"
    }
   ],
   "source": [
    "addr2code('陕西省西安市市辖区新疆霍城县').split(',')"
   ]
  },
  {
   "cell_type": "code",
   "execution_count": 16,
   "id": "endless-acquisition",
   "metadata": {
    "ExecuteTime": {
     "end_time": "2022-07-29T07:02:16.016389Z",
     "start_time": "2022-07-29T07:02:16.005419Z"
    }
   },
   "outputs": [],
   "source": [
    "gps_dict_extend['陕西省 西安市 市辖区 陕西省西安市市辖区新疆霍城县小马扎61团'] = ['108.953939', '34.266611']"
   ]
  },
  {
   "cell_type": "code",
   "execution_count": 17,
   "id": "funny-spelling",
   "metadata": {
    "ExecuteTime": {
     "end_time": "2022-07-29T07:02:54.770025Z",
     "start_time": "2022-07-29T07:02:52.748974Z"
    }
   },
   "outputs": [],
   "source": [
    "# 打开历史地址\n",
    "with open('./output/gps_dict.json', 'r') as f:\n",
    "    gps_dict_base = json.load(f)"
   ]
  },
  {
   "cell_type": "code",
   "execution_count": 18,
   "id": "prescription-above",
   "metadata": {
    "ExecuteTime": {
     "end_time": "2022-07-29T07:03:31.340888Z",
     "start_time": "2022-07-29T07:03:31.285039Z"
    }
   },
   "outputs": [],
   "source": [
    "# 合并地址\n",
    "gps_dict = {**gps_dict_base, **gps_dict_extend}"
   ]
  },
  {
   "cell_type": "code",
   "execution_count": 33,
   "id": "variable-thong",
   "metadata": {
    "ExecuteTime": {
     "end_time": "2022-07-29T07:24:18.043413Z",
     "start_time": "2022-07-29T07:24:16.109933Z"
    }
   },
   "outputs": [],
   "source": [
    "# 保存地址\n",
    "with open('./output/gps_dict.json', 'w') as f:\n",
    "    json.dump(gps_dict, f)"
   ]
  },
  {
   "cell_type": "markdown",
   "id": "consistent-afghanistan",
   "metadata": {},
   "source": [
    "## 特征"
   ]
  },
  {
   "cell_type": "code",
   "execution_count": 22,
   "id": "useful-decimal",
   "metadata": {
    "ExecuteTime": {
     "end_time": "2022-07-29T07:06:57.397752Z",
     "start_time": "2022-07-29T07:06:56.903518Z"
    }
   },
   "outputs": [],
   "source": [
    "# 添加gps列\n",
    "sample_addr['GPS'] = sample_addr['consign_address'].map(lambda x: gps_dict[x])"
   ]
  },
  {
   "cell_type": "code",
   "execution_count": 23,
   "id": "increasing-promise",
   "metadata": {
    "ExecuteTime": {
     "end_time": "2022-07-29T07:07:09.376641Z",
     "start_time": "2022-07-29T07:07:03.652679Z"
    }
   },
   "outputs": [
    {
     "data": {
      "text/html": [
       "<div>\n",
       "<style scoped>\n",
       "    .dataframe tbody tr th:only-of-type {\n",
       "        vertical-align: middle;\n",
       "    }\n",
       "\n",
       "    .dataframe tbody tr th {\n",
       "        vertical-align: top;\n",
       "    }\n",
       "\n",
       "    .dataframe thead th {\n",
       "        text-align: right;\n",
       "    }\n",
       "</style>\n",
       "<table border=\"1\" class=\"dataframe\">\n",
       "  <thead>\n",
       "    <tr style=\"text-align: right;\">\n",
       "      <th></th>\n",
       "      <th>consign_address</th>\n",
       "      <th>GPS</th>\n",
       "    </tr>\n",
       "  </thead>\n",
       "  <tbody>\n",
       "  </tbody>\n",
       "</table>\n",
       "</div>"
      ],
      "text/plain": [
       "Empty DataFrame\n",
       "Columns: [consign_address, GPS]\n",
       "Index: []"
      ]
     },
     "execution_count": 23,
     "metadata": {},
     "output_type": "execute_result"
    }
   ],
   "source": [
    "# 未查得是否有特征\n",
    "f = lambda x: True if '未查到' in str(x) else False\n",
    "sample_addr[sample_addr['GPS'].map(f)][['consign_address','GPS']]"
   ]
  },
  {
   "cell_type": "code",
   "execution_count": 24,
   "id": "attended-chemistry",
   "metadata": {
    "ExecuteTime": {
     "end_time": "2022-07-29T07:07:11.259191Z",
     "start_time": "2022-07-29T07:07:11.055194Z"
    }
   },
   "outputs": [
    {
     "data": {
      "text/html": [
       "<div>\n",
       "<style scoped>\n",
       "    .dataframe tbody tr th:only-of-type {\n",
       "        vertical-align: middle;\n",
       "    }\n",
       "\n",
       "    .dataframe tbody tr th {\n",
       "        vertical-align: top;\n",
       "    }\n",
       "\n",
       "    .dataframe thead th {\n",
       "        text-align: right;\n",
       "    }\n",
       "</style>\n",
       "<table border=\"1\" class=\"dataframe\">\n",
       "  <thead>\n",
       "    <tr style=\"text-align: right;\">\n",
       "      <th></th>\n",
       "      <th>consign_address</th>\n",
       "      <th>GPS</th>\n",
       "    </tr>\n",
       "  </thead>\n",
       "  <tbody>\n",
       "  </tbody>\n",
       "</table>\n",
       "</div>"
      ],
      "text/plain": [
       "Empty DataFrame\n",
       "Columns: [consign_address, GPS]\n",
       "Index: []"
      ]
     },
     "execution_count": 24,
     "metadata": {},
     "output_type": "execute_result"
    }
   ],
   "source": [
    "# 是否有空值\n",
    "f = lambda x: True if len(x)!=2 else False\n",
    "sample_addr[sample_addr['GPS'].map(f)][['consign_address','GPS']]"
   ]
  },
  {
   "cell_type": "code",
   "execution_count": 25,
   "id": "excessive-effect",
   "metadata": {
    "ExecuteTime": {
     "end_time": "2022-07-29T07:07:51.048410Z",
     "start_time": "2022-07-29T07:07:20.519606Z"
    }
   },
   "outputs": [],
   "source": [
    "# 添加geohash列\n",
    "sample_addr['geocode'] = sample_addr['GPS'].map(lambda x: geohash.encode(float(x[1]), float(x[0]), 7))"
   ]
  },
  {
   "cell_type": "code",
   "execution_count": 26,
   "id": "different-maintenance",
   "metadata": {
    "ExecuteTime": {
     "end_time": "2022-07-29T07:08:17.017578Z",
     "start_time": "2022-07-29T07:08:13.488675Z"
    }
   },
   "outputs": [],
   "source": [
    "# 输出宽表\n",
    "sample_addr[['order_code','GPS','geocode']].to_csv('./output/tmp_addrgps_shl.csv', index=0)"
   ]
  }
 ],
 "metadata": {
  "hide_input": false,
  "kernelspec": {
   "display_name": "Python 3",
   "language": "python",
   "name": "python3"
  },
  "language_info": {
   "codemirror_mode": {
    "name": "ipython",
    "version": 3
   },
   "file_extension": ".py",
   "mimetype": "text/x-python",
   "name": "python",
   "nbconvert_exporter": "python",
   "pygments_lexer": "ipython3",
   "version": "3.8.7"
  },
  "toc": {
   "base_numbering": 1,
   "nav_menu": {},
   "number_sections": true,
   "sideBar": true,
   "skip_h1_title": false,
   "title_cell": "Table of Contents",
   "title_sidebar": "Contents",
   "toc_cell": false,
   "toc_position": {},
   "toc_section_display": true,
   "toc_window_display": true
  },
  "varInspector": {
   "cols": {
    "lenName": 16,
    "lenType": 16,
    "lenVar": 40
   },
   "kernels_config": {
    "python": {
     "delete_cmd_postfix": "",
     "delete_cmd_prefix": "del ",
     "library": "var_list.py",
     "varRefreshCmd": "print(var_dic_list())"
    },
    "r": {
     "delete_cmd_postfix": ") ",
     "delete_cmd_prefix": "rm(",
     "library": "var_list.r",
     "varRefreshCmd": "cat(var_dic_list()) "
    }
   },
   "types_to_exclude": [
    "module",
    "function",
    "builtin_function_or_method",
    "instance",
    "_Feature"
   ],
   "window_display": false
  }
 },
 "nbformat": 4,
 "nbformat_minor": 5
}
